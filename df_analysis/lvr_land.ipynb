{
 "cells": [
  {
   "cell_type": "code",
   "execution_count": 128,
   "metadata": {},
   "outputs": [],
   "source": [
    "import pandas as pd\n",
    "pd.options.mode.chained_assignment = None"
   ]
  },
  {
   "cell_type": "code",
   "execution_count": 90,
   "metadata": {},
   "outputs": [],
   "source": [
    "import glob"
   ]
  },
  {
   "cell_type": "code",
   "execution_count": 91,
   "metadata": {},
   "outputs": [
    {
     "name": "stdout",
     "output_type": "stream",
     "text": [
      "108\n"
     ]
    }
   ],
   "source": [
    "source_csv = glob.glob('../lvrland_crawler/lvr_src/*/*/*/*/*_lvr_land_*.csv')\n",
    "print(len(source_csv))"
   ]
  },
  {
   "cell_type": "code",
   "execution_count": 102,
   "metadata": {},
   "outputs": [],
   "source": [
    "h0 = []\n",
    "h1 = []\n",
    "for s in source_csv:\n",
    "    sp = s.split('/')\n",
    "    year, season, trade_type, city = sp[3], sp[4], sp[5], sp[6]\n",
    "    new_column = f'{year}_{season}_{city}_{trade_type}'\n",
    "    temp_df_h0 = pd.read_csv(s)\n",
    "    temp_df_h1 = pd.read_csv(s, header=1)\n",
    "\n",
    "    temp_df_h0['df_name'] = new_column\n",
    "    temp_df_h1['df_name'] = new_column\n",
    "    \n",
    "    h0.append(temp_df_h0)\n",
    "    h1.append(temp_df_h1)"
   ]
  },
  {
   "cell_type": "code",
   "execution_count": 103,
   "metadata": {},
   "outputs": [],
   "source": [
    "# dataframe\n",
    "df_source = pd.concat(h0, axis=0,ignore_index=True)\n",
    "df_lvrland = pd.concat(h1, axis=0,ignore_index=True)"
   ]
  },
  {
   "cell_type": "code",
   "execution_count": 104,
   "metadata": {},
   "outputs": [
    {
     "data": {
      "text/plain": [
       "0          True\n",
       "1         False\n",
       "2          True\n",
       "3          True\n",
       "4          True\n",
       "          ...  \n",
       "626536     True\n",
       "626537    False\n",
       "626538    False\n",
       "626539    False\n",
       "626540    False\n",
       "Name: main use, Length: 626541, dtype: bool"
      ]
     },
     "execution_count": 104,
     "metadata": {},
     "output_type": "execute_result"
    }
   ],
   "source": [
    "# 主要用途為住家用\n",
    "is_self_residence = df_lvrland['main use']=='住家用'\n",
    "is_self_residence"
   ]
  },
  {
   "cell_type": "code",
   "execution_count": 105,
   "metadata": {},
   "outputs": [
    {
     "data": {
      "text/plain": [
       "0         False\n",
       "1         False\n",
       "2         False\n",
       "3         False\n",
       "4         False\n",
       "          ...  \n",
       "626536     True\n",
       "626537    False\n",
       "626538    False\n",
       "626539    False\n",
       "626540    False\n",
       "Name: building state, Length: 626541, dtype: bool"
      ]
     },
     "execution_count": 105,
     "metadata": {},
     "output_type": "execute_result"
    }
   ],
   "source": [
    "# 建物型態為住宅大樓\n",
    "is_self_residence_building = df_lvrland['building state'].fillna('0').str.startswith('住宅大樓')\n",
    "is_self_residence_building\n"
   ]
  },
  {
   "cell_type": "code",
   "execution_count": 106,
   "metadata": {},
   "outputs": [],
   "source": [
    "import cn2an"
   ]
  },
  {
   "cell_type": "code",
   "execution_count": 107,
   "metadata": {},
   "outputs": [],
   "source": [
    "# 樓層資料包含有中文數字+層數, 數字, 地下層，將其轉為integer\n",
    "def convert_floor2int(x):\n",
    "    if type(x) == str:\n",
    "        if x.isdigit():\n",
    "            return int(x)\n",
    "        else:\n",
    "            if x != '地下層':\n",
    "                x = cn2an.cn2an(x.strip(\"層\"))\n",
    "                return x\n",
    "    elif type(x) == int:\n",
    "        return x\n",
    "    else:\n",
    "        print(x)\n",
    "    return 0\n",
    "        "
   ]
  },
  {
   "cell_type": "code",
   "execution_count": 109,
   "metadata": {},
   "outputs": [
    {
     "data": {
      "text/plain": [
       "0         False\n",
       "1         False\n",
       "2         False\n",
       "3         False\n",
       "4         False\n",
       "          ...  \n",
       "626536     True\n",
       "626537     True\n",
       "626538     True\n",
       "626539     True\n",
       "626540     True\n",
       "Name: total floor number, Length: 626541, dtype: bool"
      ]
     },
     "execution_count": 109,
     "metadata": {},
     "output_type": "execute_result"
    }
   ],
   "source": [
    "# 總樓層數大於等於十三層\n",
    "is_gte_floor_13 = df_lvrland['total floor number'].fillna(0).map(convert_floor2int) >= 13\n",
    "is_gte_floor_13"
   ]
  },
  {
   "cell_type": "code",
   "execution_count": 126,
   "metadata": {},
   "outputs": [
    {
     "data": {
      "text/plain": [
       "(129870, 29)"
      ]
     },
     "execution_count": 126,
     "metadata": {},
     "output_type": "execute_result"
    }
   ],
   "source": [
    "# 3 filter dataframe\n",
    "df_residence_gte_13 = df_lvrland[(is_self_residence & is_self_residence_building & is_gte_floor_13)]\n",
    "df_residence_gte_13.shape"
   ]
  },
  {
   "cell_type": "code",
   "execution_count": 131,
   "metadata": {},
   "outputs": [
    {
     "data": {
      "text/plain": [
       "14        104_1\n",
       "17        104_1\n",
       "18        104_1\n",
       "21        104_1\n",
       "28        104_1\n",
       "          ...  \n",
       "626532    108_2\n",
       "626533    108_2\n",
       "626534    108_2\n",
       "626535    108_2\n",
       "626536    108_2\n",
       "Name: year_season, Length: 129870, dtype: object"
      ]
     },
     "execution_count": 131,
     "metadata": {},
     "output_type": "execute_result"
    }
   ],
   "source": [
    "# 增加年度season欄位\n",
    "df_residence_gte_13['year_season'] = df_residence_gte_13['df_name'].map(lambda x: '_'.join([x.split('_')[0],x.split('_')[1]]))\n",
    "df_residence_gte_13['year_season']"
   ]
  },
  {
   "cell_type": "code",
   "execution_count": 142,
   "metadata": {},
   "outputs": [
    {
     "data": {
      "text/plain": [
       "14        台北市\n",
       "17        台北市\n",
       "18        台北市\n",
       "21        台北市\n",
       "28        台北市\n",
       "         ... \n",
       "626532    台中市\n",
       "626533    台中市\n",
       "626534    台中市\n",
       "626535    台中市\n",
       "626536    台中市\n",
       "Name: city, Length: 129870, dtype: object"
      ]
     },
     "execution_count": 142,
     "metadata": {},
     "output_type": "execute_result"
    }
   ],
   "source": [
    "# 增加縣市別\n",
    "city_map = {\n",
    "    'A': '台北市',\n",
    "    'B': '台中市',\n",
    "    'F': '新北市',\n",
    "    'H': '桃園市',\n",
    "    'E': '高雄市'\n",
    "    \n",
    "    \n",
    "}\n",
    "df_residence_gte_13['city'] = df_residence_gte_13['df_name'].map(lambda x: city_map[x.split('_')[2]])\n",
    "df_residence_gte_13['city']"
   ]
  },
  {
   "cell_type": "code",
   "execution_count": 351,
   "metadata": {},
   "outputs": [],
   "source": [
    "import datetime\n",
    "def data_interval(data1,data2):\n",
    "    d1 = datetime.datetime.strptime(data1, '%Y%m%d')\n",
    "    d2 = datetime.datetime.strptime(data2, '%Y%m%d')\n",
    "    delta = d1 - d2\n",
    "    year = int(delta.days / (365.25))\n",
    "    if year < 0:\n",
    "        year = 0\n",
    "    return year"
   ]
  },
  {
   "cell_type": "code",
   "execution_count": 352,
   "metadata": {},
   "outputs": [],
   "source": [
    "def convert_tw_year(data):\n",
    "    tw_y = str(int(data))[:-4]\n",
    "#     print(tw_y)\n",
    "    y = str(int(tw_y) + 1911)\n",
    "    y_convert = y + str(str(int(data))[-4:])\n",
    "    return y_convert"
   ]
  },
  {
   "cell_type": "code",
   "execution_count": 353,
   "metadata": {},
   "outputs": [],
   "source": [
    "def get_interval(x):\n",
    "    try:\n",
    "        d1 = x['transaction year month and day']\n",
    "        d2 = x['construction to complete the years']\n",
    "        d1_convert = convert_tw_year(d1)\n",
    "        d2_convert = convert_tw_year(d2)\n",
    "    #     print(d1_convert, d2_convert)\n",
    "        return data_interval(d1_convert, d2_convert)\n",
    "    except:\n",
    "        return 0"
   ]
  },
  {
   "cell_type": "code",
   "execution_count": 354,
   "metadata": {},
   "outputs": [],
   "source": [
    "# 建物年齡（交易日期-建築完成年月）\n",
    "df_residence_gte_13['building_age'] = df_residence_gte_13.fillna(0).apply(get_interval, axis = 1)"
   ]
  },
  {
   "cell_type": "code",
   "execution_count": 355,
   "metadata": {},
   "outputs": [
    {
     "data": {
      "text/html": [
       "<div>\n",
       "<style scoped>\n",
       "    .dataframe tbody tr th:only-of-type {\n",
       "        vertical-align: middle;\n",
       "    }\n",
       "\n",
       "    .dataframe tbody tr th {\n",
       "        vertical-align: top;\n",
       "    }\n",
       "\n",
       "    .dataframe thead th {\n",
       "        text-align: right;\n",
       "    }\n",
       "</style>\n",
       "<table border=\"1\" class=\"dataframe\">\n",
       "  <thead>\n",
       "    <tr style=\"text-align: right;\">\n",
       "      <th></th>\n",
       "      <th>The villages and towns urban district</th>\n",
       "      <th>transaction sign</th>\n",
       "      <th>land sector position building sector house number plate</th>\n",
       "      <th>land shifting total area square meter</th>\n",
       "      <th>the use zoning or compiles and checks</th>\n",
       "      <th>the non-metropolis land use district</th>\n",
       "      <th>non-metropolis land use</th>\n",
       "      <th>transaction year month and day</th>\n",
       "      <th>transaction pen number</th>\n",
       "      <th>shifting level</th>\n",
       "      <th>...</th>\n",
       "      <th>the unit price (NTD / square meter)</th>\n",
       "      <th>the berth category</th>\n",
       "      <th>berth shifting total area square meter</th>\n",
       "      <th>the berth total price NTD</th>\n",
       "      <th>the note</th>\n",
       "      <th>serial number</th>\n",
       "      <th>df_name</th>\n",
       "      <th>year_season</th>\n",
       "      <th>city</th>\n",
       "      <th>building_age</th>\n",
       "    </tr>\n",
       "  </thead>\n",
       "  <tbody>\n",
       "    <tr>\n",
       "      <th>14</th>\n",
       "      <td>中山區</td>\n",
       "      <td>房地(土地+建物)</td>\n",
       "      <td>臺北市中山區長安東路二段181~210號</td>\n",
       "      <td>12.88</td>\n",
       "      <td>商</td>\n",
       "      <td>NaN</td>\n",
       "      <td>NaN</td>\n",
       "      <td>1030927</td>\n",
       "      <td>土地1建物1車位0</td>\n",
       "      <td>八層</td>\n",
       "      <td>...</td>\n",
       "      <td>285526.0</td>\n",
       "      <td>NaN</td>\n",
       "      <td>0.00</td>\n",
       "      <td>0</td>\n",
       "      <td>含增建或未登記建物。</td>\n",
       "      <td>RPQOMLNJJIJFFCA96CA</td>\n",
       "      <td>104_1_A_A</td>\n",
       "      <td>104_1</td>\n",
       "      <td>台北市</td>\n",
       "      <td>7</td>\n",
       "    </tr>\n",
       "    <tr>\n",
       "      <th>17</th>\n",
       "      <td>中山區</td>\n",
       "      <td>房地(土地+建物)+車位</td>\n",
       "      <td>臺北市中山區林森北路571~600號</td>\n",
       "      <td>9.37</td>\n",
       "      <td>商</td>\n",
       "      <td>NaN</td>\n",
       "      <td>NaN</td>\n",
       "      <td>1031003</td>\n",
       "      <td>土地1建物1車位1</td>\n",
       "      <td>八層</td>\n",
       "      <td>...</td>\n",
       "      <td>195141.0</td>\n",
       "      <td>坡道平面</td>\n",
       "      <td>39.18</td>\n",
       "      <td>0</td>\n",
       "      <td>NaN</td>\n",
       "      <td>RPRNMLOJJIJFFCA07CA</td>\n",
       "      <td>104_1_A_A</td>\n",
       "      <td>104_1</td>\n",
       "      <td>台北市</td>\n",
       "      <td>3</td>\n",
       "    </tr>\n",
       "    <tr>\n",
       "      <th>18</th>\n",
       "      <td>內湖區</td>\n",
       "      <td>房地(土地+建物)+車位</td>\n",
       "      <td>臺北市內湖區行善路241~270號</td>\n",
       "      <td>33.44</td>\n",
       "      <td>其他</td>\n",
       "      <td>NaN</td>\n",
       "      <td>NaN</td>\n",
       "      <td>1030920</td>\n",
       "      <td>土地1建物1車位2</td>\n",
       "      <td>十五層</td>\n",
       "      <td>...</td>\n",
       "      <td>190150.0</td>\n",
       "      <td>坡道平面</td>\n",
       "      <td>49.78</td>\n",
       "      <td>0</td>\n",
       "      <td>NaN</td>\n",
       "      <td>RPTNMLOJJIJFFCA27CA</td>\n",
       "      <td>104_1_A_A</td>\n",
       "      <td>104_1</td>\n",
       "      <td>台北市</td>\n",
       "      <td>4</td>\n",
       "    </tr>\n",
       "    <tr>\n",
       "      <th>21</th>\n",
       "      <td>內湖區</td>\n",
       "      <td>房地(土地+建物)</td>\n",
       "      <td>臺北市內湖區民權東路六段296巷1~30號</td>\n",
       "      <td>20.07</td>\n",
       "      <td>住</td>\n",
       "      <td>NaN</td>\n",
       "      <td>NaN</td>\n",
       "      <td>1031020</td>\n",
       "      <td>土地1建物1車位0</td>\n",
       "      <td>十六層，電梯樓梯間</td>\n",
       "      <td>...</td>\n",
       "      <td>256840.0</td>\n",
       "      <td>NaN</td>\n",
       "      <td>0.00</td>\n",
       "      <td>0</td>\n",
       "      <td>NaN</td>\n",
       "      <td>RPXUMLPJJIJFFCA48CA</td>\n",
       "      <td>104_1_A_A</td>\n",
       "      <td>104_1</td>\n",
       "      <td>台北市</td>\n",
       "      <td>18</td>\n",
       "    </tr>\n",
       "    <tr>\n",
       "      <th>28</th>\n",
       "      <td>中山區</td>\n",
       "      <td>房地(土地+建物)+車位</td>\n",
       "      <td>臺北市中山區長春路91~120號</td>\n",
       "      <td>29.36</td>\n",
       "      <td>商</td>\n",
       "      <td>NaN</td>\n",
       "      <td>NaN</td>\n",
       "      <td>1030825</td>\n",
       "      <td>土地1建物1車位1</td>\n",
       "      <td>四層</td>\n",
       "      <td>...</td>\n",
       "      <td>256993.0</td>\n",
       "      <td>坡道平面</td>\n",
       "      <td>46.12</td>\n",
       "      <td>2500000</td>\n",
       "      <td>NaN</td>\n",
       "      <td>RPOQMLTKJIJFFCA67CA</td>\n",
       "      <td>104_1_A_A</td>\n",
       "      <td>104_1</td>\n",
       "      <td>台北市</td>\n",
       "      <td>0</td>\n",
       "    </tr>\n",
       "    <tr>\n",
       "      <th>...</th>\n",
       "      <td>...</td>\n",
       "      <td>...</td>\n",
       "      <td>...</td>\n",
       "      <td>...</td>\n",
       "      <td>...</td>\n",
       "      <td>...</td>\n",
       "      <td>...</td>\n",
       "      <td>...</td>\n",
       "      <td>...</td>\n",
       "      <td>...</td>\n",
       "      <td>...</td>\n",
       "      <td>...</td>\n",
       "      <td>...</td>\n",
       "      <td>...</td>\n",
       "      <td>...</td>\n",
       "      <td>...</td>\n",
       "      <td>...</td>\n",
       "      <td>...</td>\n",
       "      <td>...</td>\n",
       "      <td>...</td>\n",
       "      <td>...</td>\n",
       "    </tr>\n",
       "    <tr>\n",
       "      <th>626532</th>\n",
       "      <td>梧棲區</td>\n",
       "      <td>房地(土地+建物)+車位</td>\n",
       "      <td>梧棲段2821~2850地號</td>\n",
       "      <td>0.06</td>\n",
       "      <td>商</td>\n",
       "      <td>NaN</td>\n",
       "      <td>NaN</td>\n",
       "      <td>1070907</td>\n",
       "      <td>土地1建物1車位1</td>\n",
       "      <td>十一層</td>\n",
       "      <td>...</td>\n",
       "      <td>55574.0</td>\n",
       "      <td>坡道平面</td>\n",
       "      <td>31.04</td>\n",
       "      <td>520000</td>\n",
       "      <td>NaN</td>\n",
       "      <td>RPSOMLTJNHOFFFB09CB</td>\n",
       "      <td>108_2_B_B</td>\n",
       "      <td>108_2</td>\n",
       "      <td>台中市</td>\n",
       "      <td>0</td>\n",
       "    </tr>\n",
       "    <tr>\n",
       "      <th>626533</th>\n",
       "      <td>梧棲區</td>\n",
       "      <td>房地(土地+建物)+車位</td>\n",
       "      <td>梧棲段2821~2850地號</td>\n",
       "      <td>0.06</td>\n",
       "      <td>商</td>\n",
       "      <td>NaN</td>\n",
       "      <td>NaN</td>\n",
       "      <td>1070629</td>\n",
       "      <td>土地1建物1車位1</td>\n",
       "      <td>十三層</td>\n",
       "      <td>...</td>\n",
       "      <td>55904.0</td>\n",
       "      <td>坡道平面</td>\n",
       "      <td>31.04</td>\n",
       "      <td>580000</td>\n",
       "      <td>NaN</td>\n",
       "      <td>RPTOMLTJNHOFFFB56CB</td>\n",
       "      <td>108_2_B_B</td>\n",
       "      <td>108_2</td>\n",
       "      <td>台中市</td>\n",
       "      <td>0</td>\n",
       "    </tr>\n",
       "    <tr>\n",
       "      <th>626534</th>\n",
       "      <td>梧棲區</td>\n",
       "      <td>房地(土地+建物)+車位</td>\n",
       "      <td>梧棲段2821~2850地號</td>\n",
       "      <td>0.06</td>\n",
       "      <td>商</td>\n",
       "      <td>NaN</td>\n",
       "      <td>NaN</td>\n",
       "      <td>1070629</td>\n",
       "      <td>土地1建物1車位1</td>\n",
       "      <td>十五層</td>\n",
       "      <td>...</td>\n",
       "      <td>55409.0</td>\n",
       "      <td>坡道平面</td>\n",
       "      <td>31.04</td>\n",
       "      <td>580000</td>\n",
       "      <td>NaN</td>\n",
       "      <td>RPVOMLTJNHOFFFB76CB</td>\n",
       "      <td>108_2_B_B</td>\n",
       "      <td>108_2</td>\n",
       "      <td>台中市</td>\n",
       "      <td>0</td>\n",
       "    </tr>\n",
       "    <tr>\n",
       "      <th>626535</th>\n",
       "      <td>梧棲區</td>\n",
       "      <td>房地(土地+建物)+車位</td>\n",
       "      <td>梧棲段2821~2850地號</td>\n",
       "      <td>0.16</td>\n",
       "      <td>商</td>\n",
       "      <td>NaN</td>\n",
       "      <td>NaN</td>\n",
       "      <td>1070930</td>\n",
       "      <td>土地1建物1車位1</td>\n",
       "      <td>九層</td>\n",
       "      <td>...</td>\n",
       "      <td>48336.0</td>\n",
       "      <td>坡道平面</td>\n",
       "      <td>29.95</td>\n",
       "      <td>670000</td>\n",
       "      <td>NaN</td>\n",
       "      <td>RPWOMLTJNHOFFFB86CB</td>\n",
       "      <td>108_2_B_B</td>\n",
       "      <td>108_2</td>\n",
       "      <td>台中市</td>\n",
       "      <td>0</td>\n",
       "    </tr>\n",
       "    <tr>\n",
       "      <th>626536</th>\n",
       "      <td>梧棲區</td>\n",
       "      <td>房地(土地+建物)</td>\n",
       "      <td>梧棲段2821~2850地號</td>\n",
       "      <td>0.06</td>\n",
       "      <td>商</td>\n",
       "      <td>NaN</td>\n",
       "      <td>NaN</td>\n",
       "      <td>1070616</td>\n",
       "      <td>土地1建物1車位0</td>\n",
       "      <td>十層</td>\n",
       "      <td>...</td>\n",
       "      <td>41222.0</td>\n",
       "      <td>NaN</td>\n",
       "      <td>0.00</td>\n",
       "      <td>0</td>\n",
       "      <td>NaN</td>\n",
       "      <td>RPXOMLTJNHOFFFB96CB</td>\n",
       "      <td>108_2_B_B</td>\n",
       "      <td>108_2</td>\n",
       "      <td>台中市</td>\n",
       "      <td>0</td>\n",
       "    </tr>\n",
       "  </tbody>\n",
       "</table>\n",
       "<p>129870 rows × 32 columns</p>\n",
       "</div>"
      ],
      "text/plain": [
       "       The villages and towns urban district transaction sign  \\\n",
       "14                                       中山區        房地(土地+建物)   \n",
       "17                                       中山區     房地(土地+建物)+車位   \n",
       "18                                       內湖區     房地(土地+建物)+車位   \n",
       "21                                       內湖區        房地(土地+建物)   \n",
       "28                                       中山區     房地(土地+建物)+車位   \n",
       "...                                      ...              ...   \n",
       "626532                                   梧棲區     房地(土地+建物)+車位   \n",
       "626533                                   梧棲區     房地(土地+建物)+車位   \n",
       "626534                                   梧棲區     房地(土地+建物)+車位   \n",
       "626535                                   梧棲區     房地(土地+建物)+車位   \n",
       "626536                                   梧棲區        房地(土地+建物)   \n",
       "\n",
       "       land sector position building sector house number plate  \\\n",
       "14                                   臺北市中山區長安東路二段181~210號        \n",
       "17                                     臺北市中山區林森北路571~600號        \n",
       "18                                      臺北市內湖區行善路241~270號        \n",
       "21                                  臺北市內湖區民權東路六段296巷1~30號        \n",
       "28                                       臺北市中山區長春路91~120號        \n",
       "...                                                   ...        \n",
       "626532                                     梧棲段2821~2850地號        \n",
       "626533                                     梧棲段2821~2850地號        \n",
       "626534                                     梧棲段2821~2850地號        \n",
       "626535                                     梧棲段2821~2850地號        \n",
       "626536                                     梧棲段2821~2850地號        \n",
       "\n",
       "        land shifting total area square meter  \\\n",
       "14                                      12.88   \n",
       "17                                       9.37   \n",
       "18                                      33.44   \n",
       "21                                      20.07   \n",
       "28                                      29.36   \n",
       "...                                       ...   \n",
       "626532                                   0.06   \n",
       "626533                                   0.06   \n",
       "626534                                   0.06   \n",
       "626535                                   0.16   \n",
       "626536                                   0.06   \n",
       "\n",
       "       the use zoning or compiles and checks  \\\n",
       "14                                         商   \n",
       "17                                         商   \n",
       "18                                        其他   \n",
       "21                                         住   \n",
       "28                                         商   \n",
       "...                                      ...   \n",
       "626532                                     商   \n",
       "626533                                     商   \n",
       "626534                                     商   \n",
       "626535                                     商   \n",
       "626536                                     商   \n",
       "\n",
       "       the non-metropolis land use district non-metropolis land use  \\\n",
       "14                                      NaN                     NaN   \n",
       "17                                      NaN                     NaN   \n",
       "18                                      NaN                     NaN   \n",
       "21                                      NaN                     NaN   \n",
       "28                                      NaN                     NaN   \n",
       "...                                     ...                     ...   \n",
       "626532                                  NaN                     NaN   \n",
       "626533                                  NaN                     NaN   \n",
       "626534                                  NaN                     NaN   \n",
       "626535                                  NaN                     NaN   \n",
       "626536                                  NaN                     NaN   \n",
       "\n",
       "        transaction year month and day transaction pen number shifting level  \\\n",
       "14                             1030927              土地1建物1車位0             八層   \n",
       "17                             1031003              土地1建物1車位1             八層   \n",
       "18                             1030920              土地1建物1車位2            十五層   \n",
       "21                             1031020              土地1建物1車位0      十六層，電梯樓梯間   \n",
       "28                             1030825              土地1建物1車位1             四層   \n",
       "...                                ...                    ...            ...   \n",
       "626532                         1070907              土地1建物1車位1            十一層   \n",
       "626533                         1070629              土地1建物1車位1            十三層   \n",
       "626534                         1070629              土地1建物1車位1            十五層   \n",
       "626535                         1070930              土地1建物1車位1             九層   \n",
       "626536                         1070616              土地1建物1車位0             十層   \n",
       "\n",
       "        ... the unit price (NTD / square meter) the berth category  \\\n",
       "14      ...                            285526.0                NaN   \n",
       "17      ...                            195141.0               坡道平面   \n",
       "18      ...                            190150.0               坡道平面   \n",
       "21      ...                            256840.0                NaN   \n",
       "28      ...                            256993.0               坡道平面   \n",
       "...     ...                                 ...                ...   \n",
       "626532  ...                             55574.0               坡道平面   \n",
       "626533  ...                             55904.0               坡道平面   \n",
       "626534  ...                             55409.0               坡道平面   \n",
       "626535  ...                             48336.0               坡道平面   \n",
       "626536  ...                             41222.0                NaN   \n",
       "\n",
       "       berth shifting total area square meter the berth total price NTD  \\\n",
       "14                                       0.00                         0   \n",
       "17                                      39.18                         0   \n",
       "18                                      49.78                         0   \n",
       "21                                       0.00                         0   \n",
       "28                                      46.12                   2500000   \n",
       "...                                       ...                       ...   \n",
       "626532                                  31.04                    520000   \n",
       "626533                                  31.04                    580000   \n",
       "626534                                  31.04                    580000   \n",
       "626535                                  29.95                    670000   \n",
       "626536                                   0.00                         0   \n",
       "\n",
       "          the note        serial number    df_name  year_season  city  \\\n",
       "14      含增建或未登記建物。  RPQOMLNJJIJFFCA96CA  104_1_A_A        104_1   台北市   \n",
       "17             NaN  RPRNMLOJJIJFFCA07CA  104_1_A_A        104_1   台北市   \n",
       "18             NaN  RPTNMLOJJIJFFCA27CA  104_1_A_A        104_1   台北市   \n",
       "21             NaN  RPXUMLPJJIJFFCA48CA  104_1_A_A        104_1   台北市   \n",
       "28             NaN  RPOQMLTKJIJFFCA67CA  104_1_A_A        104_1   台北市   \n",
       "...            ...                  ...        ...          ...   ...   \n",
       "626532         NaN  RPSOMLTJNHOFFFB09CB  108_2_B_B        108_2   台中市   \n",
       "626533         NaN  RPTOMLTJNHOFFFB56CB  108_2_B_B        108_2   台中市   \n",
       "626534         NaN  RPVOMLTJNHOFFFB76CB  108_2_B_B        108_2   台中市   \n",
       "626535         NaN  RPWOMLTJNHOFFFB86CB  108_2_B_B        108_2   台中市   \n",
       "626536         NaN  RPXOMLTJNHOFFFB96CB  108_2_B_B        108_2   台中市   \n",
       "\n",
       "       building_age  \n",
       "14                7  \n",
       "17                3  \n",
       "18                4  \n",
       "21               18  \n",
       "28                0  \n",
       "...             ...  \n",
       "626532            0  \n",
       "626533            0  \n",
       "626534            0  \n",
       "626535            0  \n",
       "626536            0  \n",
       "\n",
       "[129870 rows x 32 columns]"
      ]
     },
     "execution_count": 355,
     "metadata": {},
     "output_type": "execute_result"
    }
   ],
   "source": [
    "df_residence_gte_13"
   ]
  },
  {
   "cell_type": "code",
   "execution_count": 356,
   "metadata": {},
   "outputs": [],
   "source": [
    "# filter.csv\n",
    "\n",
    "# import numpy as np\n",
    "# output = np.vstack([df_residence_gte_13.columns.values, df_residence_gte_13.values])\n",
    "# pd.DataFrame(output, columns=df_source.columns).to_csv('filter.csv', index=0)\n",
    "pd.DataFrame(df_residence_gte_13).to_csv('filter.csv', index=0)"
   ]
  },
  {
   "cell_type": "code",
   "execution_count": 62,
   "metadata": {},
   "outputs": [
    {
     "data": {
      "text/plain": [
       "129870"
      ]
     },
     "execution_count": 62,
     "metadata": {},
     "output_type": "execute_result"
    }
   ],
   "source": [
    "# 總件數\n",
    "total_case = df_residence_gte_13.shape[0]\n",
    "total_case"
   ]
  },
  {
   "cell_type": "code",
   "execution_count": 67,
   "metadata": {},
   "outputs": [
    {
     "data": {
      "text/plain": [
       "110401"
      ]
     },
     "execution_count": 67,
     "metadata": {},
     "output_type": "execute_result"
    }
   ],
   "source": [
    "# 總車位數(透過交易筆棟數)\n",
    "total_berth = df_residence_gte_13['transaction pen number'].map(lambda x: int(x.split('車位')[-1])).sum()\n",
    "total_berth"
   ]
  },
  {
   "cell_type": "code",
   "execution_count": 68,
   "metadata": {},
   "outputs": [
    {
     "data": {
      "text/plain": [
       "16080873.0"
      ]
     },
     "execution_count": 68,
     "metadata": {},
     "output_type": "execute_result"
    }
   ],
   "source": [
    "# 平均總價元\n",
    "avg_total_price = df_residence_gte_13['total price NTD'].mean(0).round()\n",
    "avg_total_price"
   ]
  },
  {
   "cell_type": "code",
   "execution_count": 69,
   "metadata": {},
   "outputs": [
    {
     "data": {
      "text/plain": [
       "1992633.0"
      ]
     },
     "execution_count": 69,
     "metadata": {},
     "output_type": "execute_result"
    }
   ],
   "source": [
    "# 平均車位總價元(有車位才算，價格大於0)\n",
    "avg_total_berth_price = df_residence_gte_13[df_residence_gte_13['the berth total price NTD']> 0]['the berth total price NTD'].mean().round()\n",
    "avg_total_berth_price"
   ]
  },
  {
   "cell_type": "code",
   "execution_count": 66,
   "metadata": {},
   "outputs": [],
   "source": [
    "# count.csv\n",
    "data = {\n",
    "    '總件數': [total_case],\n",
    "    '總車位數': [total_berth],\n",
    "    '平均總價元': [avg_total_price],\n",
    "    '平均車位總價元': [avg_total_berth_price]\n",
    "}\n",
    "\n",
    "pd.DataFrame(data, columns=['總件數','總車位數','平均總價元', '平均車位總價元']).to_csv('count.csv', index=0)"
   ]
  },
  {
   "cell_type": "code",
   "execution_count": 285,
   "metadata": {},
   "outputs": [],
   "source": [
    "from elasticsearch import Elasticsearch, helpers\n",
    "es = Elasticsearch(\n",
    "    ['localhost'],\n",
    "    port=9200\n",
    "\n",
    ")"
   ]
  },
  {
   "cell_type": "code",
   "execution_count": 288,
   "metadata": {},
   "outputs": [],
   "source": [
    "mapping = {\n",
    "  \"settings\": {\n",
    "    \"number_of_shards\": 1\n",
    "  },\n",
    "  \"mappings\": {\n",
    "    \"properties\": {\n",
    "      \"Building present situation pattern - room\": {\n",
    "        \"type\": \"long\"\n",
    "      },\n",
    "      \"The villages and towns urban district\": {\n",
    "        \"type\": \"keyword\"\n",
    "      },\n",
    "      \"Whether there is manages the organization\": {\n",
    "        \"type\": \"keyword\"\n",
    "      },\n",
    "      \"berth shifting total area square meter\": {\n",
    "        \"type\": \"double\"\n",
    "      },\n",
    "      \"building present situation pattern - compartmented\": {\n",
    "        \"type\": \"keyword\"\n",
    "      },\n",
    "      \"building present situation pattern - hall\": {\n",
    "        \"type\": \"long\"\n",
    "      },\n",
    "      \"building present situation pattern - health\": {\n",
    "        \"type\": \"long\"\n",
    "      },\n",
    "      \"building shifting total area\": {\n",
    "        \"type\": \"double\"\n",
    "      },\n",
    "      \"building state\": {\n",
    "        \"type\": \"keyword\"\n",
    "      },\n",
    "      \"construction to complete the years\": {\n",
    "        \"type\": \"double\"\n",
    "      },\n",
    "      \"df_name\": {\n",
    "        \"type\": \"keyword\"\n",
    "      },\n",
    "      \"land sector position building sector house number plate\": {\n",
    "        \"type\": \"keyword\"\n",
    "      },\n",
    "      \"land shifting total area square meter\": {\n",
    "        \"type\": \"double\"\n",
    "      },\n",
    "      \"main building materials\": {\n",
    "        \"type\": \"keyword\"\n",
    "      },\n",
    "      \"main use\": {\n",
    "        \"type\": \"keyword\"\n",
    "      },\n",
    "      \"serial number\": {\n",
    "        \"type\": \"keyword\"\n",
    "      },\n",
    "      \"shifting level\": {\n",
    "        \"type\": \"keyword\"\n",
    "      },\n",
    "      \"the berth category\": {\n",
    "        \"type\": \"keyword\"\n",
    "      },\n",
    "      \"the berth total price NTD\": {\n",
    "        \"type\": \"long\"\n",
    "      },\n",
    "      \"the note\": {\n",
    "        \"type\": \"text\"\n",
    "      },\n",
    "      \"the unit price (NTD / square meter)\": {\n",
    "        \"type\": \"double\"\n",
    "      },\n",
    "      \"the use zoning or compiles and checks\": {\n",
    "        \"type\": \"keyword\"\n",
    "      },\n",
    "      \"total floor number\": {\n",
    "        \"type\": \"keyword\"\n",
    "      },\n",
    "      \"total price NTD\": {\n",
    "        \"type\": \"long\"\n",
    "      },\n",
    "      \"transaction pen number\": {\n",
    "        \"type\": \"keyword\"\n",
    "      },\n",
    "      \"transaction sign\": {\n",
    "        \"type\": \"keyword\"\n",
    "      },\n",
    "      \"transaction year month and day\": {\n",
    "        \"type\": \"long\"\n",
    "      }\n",
    "    }\n",
    "  }\n",
    "}"
   ]
  },
  {
   "cell_type": "code",
   "execution_count": null,
   "metadata": {},
   "outputs": [],
   "source": [
    "# create index\n",
    "response = es.indices.create(\n",
    "    index=\"csv_data\",\n",
    "    body=mapping,\n",
    "    ignore=400 # ignore 400 already exists code\n",
    ")\n"
   ]
  },
  {
   "cell_type": "code",
   "execution_count": null,
   "metadata": {},
   "outputs": [],
   "source": [
    "# 傳送至 Elasticsearch\n",
    "import csv\n",
    "with open('filter.csv') as f:\n",
    "    reader = csv.DictReader(f)\n",
    "    helpers.bulk(es, reader, index='csv_data')"
   ]
  }
 ],
 "metadata": {
  "kernelspec": {
   "display_name": "Python 3",
   "language": "python",
   "name": "python3"
  },
  "language_info": {
   "codemirror_mode": {
    "name": "ipython",
    "version": 3
   },
   "file_extension": ".py",
   "mimetype": "text/x-python",
   "name": "python",
   "nbconvert_exporter": "python",
   "pygments_lexer": "ipython3",
   "version": "3.8.0"
  }
 },
 "nbformat": 4,
 "nbformat_minor": 4
}

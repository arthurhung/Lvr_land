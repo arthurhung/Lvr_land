{
 "cells": [
  {
   "cell_type": "code",
   "execution_count": 182,
   "metadata": {},
   "outputs": [],
   "source": [
    "import pandas as pd"
   ]
  },
  {
   "cell_type": "code",
   "execution_count": 183,
   "metadata": {},
   "outputs": [],
   "source": [
    "import glob"
   ]
  },
  {
   "cell_type": "code",
   "execution_count": 184,
   "metadata": {},
   "outputs": [
    {
     "name": "stdout",
     "output_type": "stream",
     "text": [
      "108\n"
     ]
    }
   ],
   "source": [
    "source_csv = glob.glob('../lvrland_crawler/lvr_src/*/*/*/*/*_lvr_land_*.csv')\n",
    "print(len(source_csv))"
   ]
  },
  {
   "cell_type": "code",
   "execution_count": 202,
   "metadata": {},
   "outputs": [],
   "source": [
    "h0 = []\n",
    "h1 = []\n",
    "for s in source_csv:\n",
    "    sp = s.split('/')\n",
    "    year, season, city, trade_type = sp[3], sp[4], sp[5], sp[6]\n",
    "    new_column = f'{year}_{season}_{city}_{trade_type}'\n",
    "    temp_df_h0 = pd.read_csv(s)\n",
    "    temp_df_h1 = pd.read_csv(s, header=1)\n",
    "\n",
    "    temp_df_h0['df_name'] = new_column\n",
    "    temp_df_h1['df_name'] = new_column\n",
    "    \n",
    "    h0.append(temp_df_h0)\n",
    "    h1.append(temp_df_h1)"
   ]
  },
  {
   "cell_type": "code",
   "execution_count": 186,
   "metadata": {},
   "outputs": [],
   "source": [
    "# dataframe\n",
    "df_source = pd.concat(h0, axis=0,ignore_index=True)\n",
    "df_lvrland = pd.concat(h1, axis=0,ignore_index=True)"
   ]
  },
  {
   "cell_type": "code",
   "execution_count": 187,
   "metadata": {},
   "outputs": [
    {
     "data": {
      "text/plain": [
       "0          True\n",
       "1         False\n",
       "2          True\n",
       "3          True\n",
       "4          True\n",
       "          ...  \n",
       "626536     True\n",
       "626537    False\n",
       "626538    False\n",
       "626539    False\n",
       "626540    False\n",
       "Name: main use, Length: 626541, dtype: bool"
      ]
     },
     "execution_count": 187,
     "metadata": {},
     "output_type": "execute_result"
    }
   ],
   "source": [
    "# 主要用途為住家用\n",
    "is_self_residence = df_lvrland['main use']=='住家用'\n",
    "is_self_residence"
   ]
  },
  {
   "cell_type": "code",
   "execution_count": 188,
   "metadata": {},
   "outputs": [
    {
     "data": {
      "text/plain": [
       "0         False\n",
       "1         False\n",
       "2         False\n",
       "3         False\n",
       "4         False\n",
       "          ...  \n",
       "626536     True\n",
       "626537    False\n",
       "626538    False\n",
       "626539    False\n",
       "626540    False\n",
       "Name: building state, Length: 626541, dtype: bool"
      ]
     },
     "execution_count": 188,
     "metadata": {},
     "output_type": "execute_result"
    }
   ],
   "source": [
    "# 建物型態為住宅大樓\n",
    "is_self_residence_building = df_lvrland['building state'].fillna('0').str.startswith('住宅大樓')\n",
    "is_self_residence_building"
   ]
  },
  {
   "cell_type": "code",
   "execution_count": 189,
   "metadata": {},
   "outputs": [],
   "source": [
    "import cn2an"
   ]
  },
  {
   "cell_type": "code",
   "execution_count": 190,
   "metadata": {},
   "outputs": [],
   "source": [
    "# 樓層資料包含有中文數字+層數, 數字, 地下層，將其轉為integer\n",
    "def convert_floor2int(x):\n",
    "    if type(x) == str and not x.isdigit():\n",
    "        if x != '地下層':\n",
    "            x = cn2an.cn2an(x.strip(\"層\"))\n",
    "            return x\n",
    "    return 0\n",
    "        "
   ]
  },
  {
   "cell_type": "code",
   "execution_count": 191,
   "metadata": {},
   "outputs": [
    {
     "data": {
      "text/plain": [
       "0         False\n",
       "1         False\n",
       "2         False\n",
       "3         False\n",
       "4         False\n",
       "          ...  \n",
       "626536    False\n",
       "626537    False\n",
       "626538    False\n",
       "626539    False\n",
       "626540    False\n",
       "Name: total floor number, Length: 626541, dtype: bool"
      ]
     },
     "execution_count": 191,
     "metadata": {},
     "output_type": "execute_result"
    }
   ],
   "source": [
    "# 總樓層數大於等於十三層\n",
    "is_gte_floor_13 = df_lvrland['total floor number'].fillna(0).map(convert_floor2int) >= 13\n",
    "is_gte_floor_13"
   ]
  },
  {
   "cell_type": "code",
   "execution_count": 237,
   "metadata": {},
   "outputs": [],
   "source": [
    "# 3 filter dataframe\n",
    "df_residence_gte_13 = df_lvrland[(is_self_residence & is_self_residence_building & is_gte_floor_13)]"
   ]
  },
  {
   "cell_type": "code",
   "execution_count": 281,
   "metadata": {},
   "outputs": [],
   "source": [
    "# filter.csv\n",
    "\n",
    "# import numpy as np\n",
    "# output = np.vstack([df_residence_gte_13.columns.values, df_residence_gte_13.values])\n",
    "# pd.DataFrame(output, columns=df_source.columns).to_csv('filter.csv', index=0)\n",
    "pd.DataFrame(df_residence_gte_13).to_csv('filter.csv', index=0)"
   ]
  },
  {
   "cell_type": "code",
   "execution_count": 194,
   "metadata": {},
   "outputs": [
    {
     "data": {
      "text/plain": [
       "114033"
      ]
     },
     "execution_count": 194,
     "metadata": {},
     "output_type": "execute_result"
    }
   ],
   "source": [
    "# 總件數\n",
    "total_case = df_residence_gte_13.shape[0]\n",
    "total_case"
   ]
  },
  {
   "cell_type": "code",
   "execution_count": 195,
   "metadata": {},
   "outputs": [
    {
     "data": {
      "text/plain": [
       "92471"
      ]
     },
     "execution_count": 195,
     "metadata": {},
     "output_type": "execute_result"
    }
   ],
   "source": [
    "# 總車位數(透過交易筆棟數)\n",
    "total_berth = df_residence_gte_13['transaction pen number'].map(lambda x: int(x.split('車位')[-1])).sum()\n",
    "total_berth"
   ]
  },
  {
   "cell_type": "code",
   "execution_count": 212,
   "metadata": {},
   "outputs": [
    {
     "data": {
      "text/plain": [
       "16940655.0"
      ]
     },
     "execution_count": 212,
     "metadata": {},
     "output_type": "execute_result"
    }
   ],
   "source": [
    "# 平均總價元\n",
    "avg_total_price = df_residence_gte_13['total price NTD'].mean(0).round()\n",
    "avg_total_price"
   ]
  },
  {
   "cell_type": "code",
   "execution_count": 215,
   "metadata": {},
   "outputs": [
    {
     "data": {
      "text/plain": [
       "2312811.0"
      ]
     },
     "execution_count": 215,
     "metadata": {},
     "output_type": "execute_result"
    }
   ],
   "source": [
    "# 平均車位總價元(有車位才算，價格大於0)\n",
    "avg_total_berth_price = df_residence_gte_13[df_residence_gte_13['the berth total price NTD']> 0]['the berth total price NTD'].mean().round()\n",
    "avg_total_berth_price"
   ]
  },
  {
   "cell_type": "code",
   "execution_count": 223,
   "metadata": {},
   "outputs": [],
   "source": [
    "# count.csv\n",
    "data = {\n",
    "    '總件數': [total_case],\n",
    "    '總車位數': [total_berth],\n",
    "    '平均總價元': [avg_total_price],\n",
    "    '平均車位總價元': [avg_total_berth_price]\n",
    "}\n",
    "\n",
    "pd.DataFrame(data, columns=['總件數','總車位數','平均總價元', '平均車位總價元']).to_csv('count.csv', index=0)"
   ]
  },
  {
   "cell_type": "code",
   "execution_count": 285,
   "metadata": {},
   "outputs": [],
   "source": [
    "from elasticsearch import Elasticsearch, helpers\n",
    "es = Elasticsearch(\n",
    "    ['localhost'],\n",
    "    port=9200\n",
    "\n",
    ")"
   ]
  },
  {
   "cell_type": "code",
   "execution_count": 288,
   "metadata": {},
   "outputs": [],
   "source": [
    "mapping = {\n",
    "  \"settings\": {\n",
    "    \"number_of_shards\": 1\n",
    "  },\n",
    "  \"mappings\": {\n",
    "    \"properties\": {\n",
    "      \"Building present situation pattern - room\": {\n",
    "        \"type\": \"long\"\n",
    "      },\n",
    "      \"The villages and towns urban district\": {\n",
    "        \"type\": \"keyword\"\n",
    "      },\n",
    "      \"Whether there is manages the organization\": {\n",
    "        \"type\": \"keyword\"\n",
    "      },\n",
    "      \"berth shifting total area square meter\": {\n",
    "        \"type\": \"double\"\n",
    "      },\n",
    "      \"building present situation pattern - compartmented\": {\n",
    "        \"type\": \"keyword\"\n",
    "      },\n",
    "      \"building present situation pattern - hall\": {\n",
    "        \"type\": \"long\"\n",
    "      },\n",
    "      \"building present situation pattern - health\": {\n",
    "        \"type\": \"long\"\n",
    "      },\n",
    "      \"building shifting total area\": {\n",
    "        \"type\": \"double\"\n",
    "      },\n",
    "      \"building state\": {\n",
    "        \"type\": \"keyword\"\n",
    "      },\n",
    "      \"construction to complete the years\": {\n",
    "        \"type\": \"double\"\n",
    "      },\n",
    "      \"df_name\": {\n",
    "        \"type\": \"keyword\"\n",
    "      },\n",
    "      \"land sector position building sector house number plate\": {\n",
    "        \"type\": \"keyword\"\n",
    "      },\n",
    "      \"land shifting total area square meter\": {\n",
    "        \"type\": \"double\"\n",
    "      },\n",
    "      \"main building materials\": {\n",
    "        \"type\": \"keyword\"\n",
    "      },\n",
    "      \"main use\": {\n",
    "        \"type\": \"keyword\"\n",
    "      },\n",
    "      \"serial number\": {\n",
    "        \"type\": \"keyword\"\n",
    "      },\n",
    "      \"shifting level\": {\n",
    "        \"type\": \"keyword\"\n",
    "      },\n",
    "      \"the berth category\": {\n",
    "        \"type\": \"keyword\"\n",
    "      },\n",
    "      \"the berth total price NTD\": {\n",
    "        \"type\": \"long\"\n",
    "      },\n",
    "      \"the note\": {\n",
    "        \"type\": \"text\"\n",
    "      },\n",
    "      \"the unit price (NTD / square meter)\": {\n",
    "        \"type\": \"double\"\n",
    "      },\n",
    "      \"the use zoning or compiles and checks\": {\n",
    "        \"type\": \"keyword\"\n",
    "      },\n",
    "      \"total floor number\": {\n",
    "        \"type\": \"keyword\"\n",
    "      },\n",
    "      \"total price NTD\": {\n",
    "        \"type\": \"long\"\n",
    "      },\n",
    "      \"transaction pen number\": {\n",
    "        \"type\": \"keyword\"\n",
    "      },\n",
    "      \"transaction sign\": {\n",
    "        \"type\": \"keyword\"\n",
    "      },\n",
    "      \"transaction year month and day\": {\n",
    "        \"type\": \"long\"\n",
    "      }\n",
    "    }\n",
    "  }\n",
    "}"
   ]
  },
  {
   "cell_type": "code",
   "execution_count": null,
   "metadata": {},
   "outputs": [],
   "source": [
    "# create index\n",
    "response = es.indices.create(\n",
    "    index=\"csv_data\",\n",
    "    body=mapping,\n",
    "    ignore=400 # ignore 400 already exists code\n",
    ")\n"
   ]
  },
  {
   "cell_type": "code",
   "execution_count": null,
   "metadata": {},
   "outputs": [],
   "source": [
    "# 傳送至 Elasticsearch\n",
    "import csv\n",
    "with open('filter.csv') as f:\n",
    "    reader = csv.DictReader(f)\n",
    "    helpers.bulk(es, reader, index='csv_data')"
   ]
  },
  {
   "cell_type": "code",
   "execution_count": null,
   "metadata": {},
   "outputs": [],
   "source": []
  }
 ],
 "metadata": {
  "kernelspec": {
   "display_name": "Python 3",
   "language": "python",
   "name": "python3"
  },
  "language_info": {
   "codemirror_mode": {
    "name": "ipython",
    "version": 3
   },
   "file_extension": ".py",
   "mimetype": "text/x-python",
   "name": "python",
   "nbconvert_exporter": "python",
   "pygments_lexer": "ipython3",
   "version": "3.8.0"
  }
 },
 "nbformat": 4,
 "nbformat_minor": 4
}
